{
 "cells": [
  {
   "cell_type": "code",
   "execution_count": 41,
   "metadata": {},
   "outputs": [],
   "source": [
    "#python Regular expression operations package\n",
    "#https://docs.python.org/2/library/re.html#re.sub\n",
    "import re"
   ]
  },
  {
   "cell_type": "code",
   "execution_count": 1,
   "metadata": {},
   "outputs": [],
   "source": [
    "#The spacy document has everything from install to process.\n",
    "#Here is the link:https://spacy.io/usage\n",
    "import spacy"
   ]
  },
  {
   "cell_type": "code",
   "execution_count": 2,
   "metadata": {},
   "outputs": [],
   "source": [
    "nlp = spacy.load(\"en_core_web_sm\")"
   ]
  },
  {
   "cell_type": "code",
   "execution_count": 3,
   "metadata": {},
   "outputs": [],
   "source": [
    "from collections import OrderedDict"
   ]
  },
  {
   "cell_type": "code",
   "execution_count": 5,
   "metadata": {},
   "outputs": [],
   "source": [
    "from spacy.lang.en.stop_words import STOP_WORDS"
   ]
  },
  {
   "cell_type": "code",
   "execution_count": 6,
   "metadata": {},
   "outputs": [],
   "source": [
    "import csv"
   ]
  },
  {
   "cell_type": "code",
   "execution_count": 64,
   "metadata": {},
   "outputs": [
    {
     "name": "stdout",
     "output_type": "stream",
     "text": [
      "['The diagnostic features of substance/medication-induced depressive disorder include the symptoms of a depressive disorder, such as major depressive disorder; however, the de\\xadpressive symptoms are associated with the ingestion, injection, or inhalation of a sub\\xadstance (e.g., drug of abuse, toxin, psychotropic medication, other medication), and the depressive symptoms persist beyond the expected length of physiological effects, intoxi\\xadcation, or withdrawal period. As evidenced by clinical history, physical examination, or laboratory findings, the relevant depressive disorder should have developed during or within 1 month after use of a substance that is capable of producing the depressive disor\\xadder (Criterion Bl). In addition, the diagnosis is not better explained by an independent depressive disorder. Evidence of an independent depressive disorder includes the de\\xadpressive disorder preceded the onset of ingestion or withdrawal from the substance; the depressive disorder persists beyond a substantial period of time after the cessation of sub\\xadstance use; or other evidence suggests the existence of an independent non-substance/ medication-induced depressive disorder (Criterion C). This diagnosis should not be made when symptoms occur exclusively during the course of a delirium (Criterion D). The de\\xadpressive disorder associated with the substance use, intoxication, or withdrawal must cause clinically significant distress or impairment in social, occupational, or other impor\\xadtant areas of functioning to qualify for this diagnosis (Criterion E).Some medications (e.g., stimulants, steroids, L-dopa, antibiotics, central nervous system drugs, dermatological agents, chemotherapeutic drugs, immunological agents)can induce depressive mood disturbances. Clinical judgment is essential to determine whether the medication is truly associated with inducing the depressive disorder or whether a primary depressive disorder happened to have its onset while the person was receiving the treatment. For example, a depressive episode that developed within the first several weeks of beginning alpha-methyldopa (an antihypertensive agent) in an individ\\xadual with no history of major depressive disorder would qualify for the diagnosis of med\\xadication-induced depressive disorder. In some cases, a previously established condition (e.g., major depressive disorder, recurrent) can recur while the individual is coincidentally taking a medication that has the capacity to cause depressive symptoms (e.g., L-dopa, oral contraceptives). In such cases, the clinician must make a judgment as to whether the med\\xadication is causative in this particular situation.A substance/medication-induced depressive disorder is distinguished from a primary depressive disorder by considering the onset, course, and other factors associated with the substance use. There must be evidence from the history, physical examination, or labora\\xadtory findings of substance use, abuse, intoxication, or withdrawal prior to the onset of the depressive disorder. The withdrawal state for some substances can be relatively pro\\xadtracted, and thus intense depressive symptoms can last for a long period after the cessation of substance use.', \"The essential feature of attention-deficit/hyperactivity disorder (ADHD) is a persistent pattern of inattention and/or hyperactivity-impulsivity that interferes with functioning or development. Inattention manifests behaviorally in ADHD as wandering off task, lacking persistence, having difficulty sustaining focus, and being disorganized and is not due to defiance or lack of comprehension. Hyperactivity refers to excessive motor activity (such as a child running about) when it is not appropriate, or excessive fidgeting, tapping, or talk\\xadativeness. In adults, hyperactivity may manifest as extreme restlessness or wearing others out with their activity. Impulsivity refers to hasty actions that occur in the moment without forethought and that have high potential for harm to the individual (e.g., darting into the street without looking). Impulsivity may reflect a desire for immediate rewards or an in\\xadability to delay gratification. Impulsive behaviors may manifest as social intrusiveness (e.g., interrupting others excessively) and/or as making important decisions without con\\xadsideration of long-term consequences (e.g., taking a job without adequate information).ADHD begins in childhood. The requirement that several symptoms be present before age 12 years conveys the importance of a substantial clinical presentation during child\\xadhood. At the same time, an earlier age at onset is not specified because of difficulties in es\\xadtablishing precise childhood onset retrospectively. Adult recall of childhood symptoms tends to be unreliable, and it is beneficial to obtain ancillary information.Manifestations of the disorder must be present in more than one setting (e.g., home and school, work). Confirmation of substantial symptoms across settings typically cannot be done accurately without consulting informants who have seen the individual in those set\\xadtings. Typically, symptoms vary depending on context within a given setting. Signs of the disorder may be minimal or absent when the individual is receiving frequent rewards for appropriate behavior, is under close supervision, is in a novel setting, is engaged in espe\\xadcially interesting activities, has consistent external stimulation (e.g., via electronic screens), or is interacting in one-on-one situations (e.g., the clinician's office).\", 'The essential feature of posttraumatic stress disorder (PTSD) is the development of char\\xadacteristic symptoms following exposure to one or more traumatic events. Emotional re\\xadactions to the traumatic event (e.g., fear, helplessness, horror) are no longer a part of Criterion A. The clinical presentation of PTSD varies. In some individuals, fear-based re- experiencing, emotional, and behavioral symptoms may predominate. In others, anhe- donic or dysphoric mood states and negative cognitions may be most distressing. In some other individuals, arousal and reactive-externalizing symptoms are prominent, while in others, dissociative symptoms predominate. Finally, some individuals exhibit combina\\xadtions of these symptom patterns.The directly experienced traumatic events in Criterion A include, but are not limited to, exposure to war as a combatant or civilian, threatened or actual physical assault (e.g., physical attack, robbery, mugging, childhood physical abuse), threatened or actual sexual violence (e.g., forced sexual penetration, alcohol/drug-facilitated sexual penetration, abu\\xadsive sexual contact, noncontact sexual abuse, sexual trafficking), being kidnapped, being taken hostage, terrorist attack, torture, incarceration as a prisoner of war, natural or hu\\xadman-made disasters, and severe motor vehicle accidents. For children, sexually violent events may include developmentally inappropriate sexual experiences without physical violence or injury. A life-threatening illness or debilitating medical condition is not neces\\xadsarily considered a traumatic event. Medical incidents that qualify as traumatic events in\\xadvolve sudden, catastrophic events (e.g., waking during surgery, anaphylactic shock). Witnessed events include, but are not limited to, observing threatened or serious injury, unnatural death, physical or sexual abuse of another person due to violent assault, domes\\xadtic violence, accident, war or disaster, or a medical catastrophe in one\\'s child (e.g., a life- threatening hemorrhage). Indirect exposure through learning about an event is limited to experiences affecting close relatives or friends and experiences that are violent or acciden\\xadtal (e.g., death due to natural causes does not qualify). Such events include violent per\\xadsonal assault, suicide, serious accident, and serious injury. The disorder may be especially severe or long-lasting when the stressor is interpersonal and intentional (e.g., torture, sex\\xadual violence). ^The traumatic event can be reexperienced in various ways. Commonly, the individual has recurrent, involuntary, and intrusive recollections of the event (Criterion Bl). Intrusive recollections in PTSD are distinguished from depressive rumination in that they apply only to involuntary and intrusive distressing memories. The emphasis is on recurrent memories of the event that usually include sensory, emotional, or physiological behavioral components. A common reexperiencing symptom is distressing dreams that replay the event itself or that are representative or thematically related to the major threats involved in the traumatic event (Criterion B2). The individual may experience dissociative states that last from a few seconds to several hours or even days, during which components of the event are relived and the individual behaves as if the event were occurring at that mo\\xadment (Criterion B3). Such events occur on a continuum from brief visual or other sensory intrusions about part of the traumatic event without loss of reality orientation, to complete loss of awareness of present surroundings. These episodes, often referred to as \"flash\\xadbacks,\" are typically brief but can be associated with prolonged distress and heightened arousal. For young children, reenactment of events related to trauma may appear in play or in dissociative states. Intense psychological distress (Criterion B4) or physiological re\\xadactivity (Criterion B5) often occurs when the individual is exposed to triggering events that resemble or symbolize an aspect of the traumatic event (e.g., windy days after a hurricane; seeing someone who resembles one\\'s perpetrator). The triggering cue could be a physical sensation (e.g., dizziness for survivors of head trauma; rapid heartbeat for a previously traumatized child), particularly for individuals with highly somatic presentations.Stimuli associated with the trauma are persistently (e.g., always or almost always) avoided. The individual commonly makes deliberate efforts to avoid thoughts, memories, feelings, or talking about the traumatic event (e.g., utilizing distraction techniques to avoid internal reminders) (Criterion Cl) and to avoid activities, objects, situations, or people who arouse recollections of it (Criterion C2).Negative alterations in cognitions or mood associated with the event begin or worsen after exposure to the event. These negative alterations can take various forms, including an inability to remember an important aspect of the traumatic event; such amnesia is typically due to dissociative amnesia and is not due to head injury, alcohol, or drugs (Criterion Dl). Another form is persistent (i.e., always or almost always) and exaggerated negative ex\\xadpectations regarding important aspects of life applied to oneself, others, or the future (e.g., \"I have always had bad judgment\"; \"People in authority can\\'t be trusted\") that may man\\xadifest as a negative change in perceived identity since the trauma (e.g., \"I can\\'t trust anyone ever again\"; Criterion D2). Individuals with PTSD may have persistent erroneous cogni\\xadtions about the causes of the traumatic event that lead them to blame themselves or others (e.g., \"It\\'s all my fault that my uncle abused me\") (Criterion D3). A persistent negative mood state (e.g., fear, horror, anger, guilt, shame) either began or worsened after exposure to the event (Criterion D4). The individual may experience markedly diminished interest or participation in previously enjoyed activities (Criterion D5), feeling detached or es\\xadtranged from other people (Criterion D6), or a persistent inability to feel positive emotions (especially happiness, joy, satisfaction, or emotions associated with intimacy, tenderness, and sexuality) (Criterion D7).Individuals with PTSD may be quick tempered and may even engage in aggressive verbal and/or physical behavior with little or no provocation (e.g., yelling at people, get\\xadting into fights, destroying objects) (Criterion El). They may also engage in reckless or self\\xaddestructive behavior such as dangerous driving, excessive alcohol or drug use, or self- injurious or suicidal behavior (Criterion E2). PTSD is often characterized by a heightened sensitivity to potential threats, including those that are related to the traumatic experience (e.g., following a motor vehicle accident, being especially sensitive to the threat potentiallycaused by cars or trucks) and those not related to the traumatic event (e.g., being fearful of suffering a heart attack) (Criterion E3). Individuals with PTSD may be very reactive to un\\xadexpected stimuli, displaying a heightened startle response, or jumpiness, to loud noises or unexpected movements (e.g., jumping markedly in response to a telephone ringing) (Cri\\xadterion E4). Concentration difficulties, including difficulty remembering daily events (e.g., forgetting one\\'s telephone number) or attending to focused tasks (e.g., following a conver\\xadsation for a sustained period of time), are commonly reported (Criterion E5). Problems with sleep onset and maintenance are common and may be associated with nightmares and safety concerns or with generalized elevated arousal that interferes with adequate sleep (Criterion E6). Some individuals also experience persistent dissociative symptoms of de\\xadtachment from their bodies (depersonalization) or the world around them (derealization); this is reflected in the \\'\\'with dissociative symptoms\" specifier.']\n"
     ]
    }
   ],
   "source": [
    "#if you use Jupyter Notbook, then better upload the .csv to the same directory as this python\n",
    "#Then just change the path to let the file open\n",
    "f=open('/Users/riochen/3DisordersRecord.csv')\n",
    "csv_f=csv.reader(f)\n",
    "features=[]\n",
    "for row in csv_f:\n",
    "    features.append(row[1])\n",
    "print (features)"
   ]
  },
  {
   "cell_type": "code",
   "execution_count": 65,
   "metadata": {
    "scrolled": true
   },
   "outputs": [
    {
     "name": "stdout",
     "output_type": "stream",
     "text": [
      "391\n",
      "[{'type': 'MOD', 'word': 'diagnostic'}, {'type': 'KEY', 'word': 'feature'}, {'type': 'KEY', 'word': 'substancemedication'}, {'type': 'MOD', 'word': 'depressive'}, {'type': 'MOD', 'word': 'major'}, {'type': 'KEY', 'word': 'ingestion'}, {'type': 'KEY', 'word': 'injection'}, {'type': 'KEY', 'word': 'inhalation'}, {'type': 'KEY', 'word': 'substance'}, {'type': 'KEY', 'word': 'drug'}, {'type': 'KEY', 'word': 'abuse'}, {'type': 'KEY', 'word': 'toxin'}, {'type': 'MOD', 'word': 'psychotropic'}, {'type': 'KEY', 'word': 'medication'}, {'type': 'KEY', 'word': 'length'}, {'type': 'MOD', 'word': 'physiological'}, {'type': 'KEY', 'word': 'effect'}, {'type': 'KEY', 'word': 'intoxication'}, {'type': 'KEY', 'word': 'withdrawal'}, {'type': 'MOD', 'word': 'clinical'}, {'type': 'MOD', 'word': 'physical'}, {'type': 'KEY', 'word': 'examination'}, {'type': 'KEY', 'word': 'laboratory'}, {'type': 'KEY', 'word': 'finding'}, {'type': 'MOD', 'word': 'relevant'}, {'type': 'KEY', 'word': 'month'}, {'type': 'MOD', 'word': 'capable'}, {'type': 'KEY', 'word': 'addition'}, {'type': 'MOD', 'word': 'better'}, {'type': 'MOD', 'word': 'independent'}, {'type': 'KEY', 'word': 'onset'}, {'type': 'MOD', 'word': 'substantial'}, {'type': 'KEY', 'word': 'cessation'}, {'type': 'KEY', 'word': 'existence'}, {'type': 'MOD', 'word': 'exclusively'}, {'type': 'KEY', 'word': 'course'}, {'type': 'KEY', 'word': 'delirium'}, {'type': 'MOD', 'word': 'clinically'}, {'type': 'MOD', 'word': 'significant'}, {'type': 'KEY', 'word': 'distress'}, {'type': 'KEY', 'word': 'impairment'}, {'type': 'MOD', 'word': 'social'}, {'type': 'MOD', 'word': 'occupational'}, {'type': 'MOD', 'word': 'important'}, {'type': 'KEY', 'word': 'area'}, {'type': 'KEY', 'word': 'stimulant'}, {'type': 'KEY', 'word': 'steroid'}, {'type': 'KEY', 'word': 'dopa'}, {'type': 'KEY', 'word': 'antibiotic'}, {'type': 'MOD', 'word': 'central'}, {'type': 'MOD', 'word': 'nervous'}, {'type': 'KEY', 'word': 'system'}, {'type': 'MOD', 'word': 'dermatological'}, {'type': 'KEY', 'word': 'agent'}, {'type': 'MOD', 'word': 'chemotherapeutic'}, {'type': 'MOD', 'word': 'immunological'}, {'type': 'MOD', 'word': 'agents)can'}, {'type': 'KEY', 'word': 'mood'}, {'type': 'KEY', 'word': 'disturbance'}, {'type': 'KEY', 'word': 'judgment'}, {'type': 'MOD', 'word': 'essential'}, {'type': 'MOD', 'word': 'truly'}, {'type': 'MOD', 'word': 'primary'}, {'type': 'KEY', 'word': 'person'}, {'type': 'KEY', 'word': 'treatment'}, {'type': 'KEY', 'word': 'example'}, {'type': 'KEY', 'word': 'episode'}, {'type': 'KEY', 'word': 'week'}, {'type': 'KEY', 'word': 'alpha'}, {'type': 'KEY', 'word': 'methyldopa'}, {'type': 'MOD', 'word': 'antihypertensive'}, {'type': 'KEY', 'word': 'case'}, {'type': 'MOD', 'word': 'previously'}, {'type': 'KEY', 'word': 'condition'}, {'type': 'KEY', 'word': 'recurrent'}, {'type': 'MOD', 'word': 'coincidentally'}, {'type': 'KEY', 'word': 'capacity'}, {'type': 'MOD', 'word': 'oral'}, {'type': 'KEY', 'word': 'contraceptive'}, {'type': 'KEY', 'word': 'clinician'}, {'type': 'MOD', 'word': 'causative'}, {'type': 'MOD', 'word': 'particular'}, {'type': 'KEY', 'word': 'situation'}, {'type': 'KEY', 'word': 'factor'}, {'type': 'MOD', 'word': 'prior'}, {'type': 'KEY', 'word': 'state'}, {'type': 'MOD', 'word': 'relatively'}, {'type': 'MOD', 'word': 'intense'}, {'type': 'KEY', 'word': 'attention'}, {'type': 'KEY', 'word': 'deficithyperactivity'}, {'type': 'MOD', 'word': 'persistent'}, {'type': 'KEY', 'word': 'pattern'}, {'type': 'KEY', 'word': 'inattention'}, {'type': 'KEY', 'word': 'andor'}, {'type': 'KEY', 'word': 'hyperactivity'}, {'type': 'KEY', 'word': 'impulsivity'}, {'type': 'KEY', 'word': 'functioning'}, {'type': 'KEY', 'word': 'development'}, {'type': 'KEY', 'word': 'manifest'}, {'type': 'MOD', 'word': 'behaviorally'}, {'type': 'KEY', 'word': 'task'}, {'type': 'KEY', 'word': 'persistence'}, {'type': 'KEY', 'word': 'difficulty'}, {'type': 'KEY', 'word': 'focus'}, {'type': 'KEY', 'word': 'defiance'}, {'type': 'KEY', 'word': 'comprehension'}, {'type': 'MOD', 'word': 'excessive'}, {'type': 'KEY', 'word': 'motor'}, {'type': 'KEY', 'word': 'activity'}, {'type': 'KEY', 'word': 'child'}, {'type': 'MOD', 'word': 'appropriate'}, {'type': 'KEY', 'word': 'fidgeting'}, {'type': 'KEY', 'word': 'tapping'}, {'type': 'KEY', 'word': 'talkativeness'}, {'type': 'KEY', 'word': 'adult'}, {'type': 'MOD', 'word': 'extreme'}, {'type': 'KEY', 'word': 'restlessness'}, {'type': 'MOD', 'word': 'hasty'}, {'type': 'KEY', 'word': 'action'}, {'type': 'KEY', 'word': 'moment'}, {'type': 'KEY', 'word': 'forethought'}, {'type': 'MOD', 'word': 'high'}, {'type': 'KEY', 'word': 'potential'}, {'type': 'KEY', 'word': 'harm'}, {'type': 'KEY', 'word': 'street'}, {'type': 'KEY', 'word': 'desire'}, {'type': 'MOD', 'word': 'immediate'}, {'type': 'KEY', 'word': 'reward'}, {'type': 'KEY', 'word': 'inability'}, {'type': 'KEY', 'word': 'gratification'}, {'type': 'KEY', 'word': 'behavior'}, {'type': 'KEY', 'word': 'intrusiveness'}, {'type': 'MOD', 'word': 'excessively'}, {'type': 'KEY', 'word': 'decision'}, {'type': 'KEY', 'word': 'consideration'}, {'type': 'KEY', 'word': 'term'}, {'type': 'KEY', 'word': 'consequence'}, {'type': 'MOD', 'word': 'adequate'}, {'type': 'KEY', 'word': 'information'}, {'type': 'KEY', 'word': 'childhood'}, {'type': 'KEY', 'word': 'requirement'}, {'type': 'MOD', 'word': 'present'}, {'type': 'KEY', 'word': 'importance'}, {'type': 'KEY', 'word': 'presentation'}, {'type': 'MOD', 'word': 'early'}, {'type': 'MOD', 'word': 'precise'}, {'type': 'MOD', 'word': 'retrospectively'}, {'type': 'KEY', 'word': 'recall'}, {'type': 'MOD', 'word': 'unreliable'}, {'type': 'MOD', 'word': 'beneficial'}, {'type': 'MOD', 'word': 'ancillary'}, {'type': 'KEY', 'word': 'setting'}, {'type': 'KEY', 'word': 'home'}, {'type': 'KEY', 'word': 'school'}, {'type': 'KEY', 'word': 'work'}, {'type': 'MOD', 'word': 'typically'}, {'type': 'MOD', 'word': 'accurately'}, {'type': 'KEY', 'word': 'informant'}, {'type': 'KEY', 'word': 'context'}, {'type': 'MOD', 'word': 'minimal'}, {'type': 'MOD', 'word': 'absent'}, {'type': 'MOD', 'word': 'frequent'}, {'type': 'MOD', 'word': 'close'}, {'type': 'KEY', 'word': 'supervision'}, {'type': 'MOD', 'word': 'novel'}, {'type': 'MOD', 'word': 'especially'}, {'type': 'MOD', 'word': 'interesting'}, {'type': 'MOD', 'word': 'consistent'}, {'type': 'MOD', 'word': 'external'}, {'type': 'KEY', 'word': 'stimulation'}, {'type': 'MOD', 'word': 'electronic'}, {'type': 'KEY', 'word': 'screen'}, {'type': 'KEY', 'word': 'office'}, {'type': 'MOD', 'word': 'posttraumatic'}, {'type': 'KEY', 'word': 'stress'}, {'type': 'MOD', 'word': 'characteristic'}, {'type': 'KEY', 'word': 'exposure'}, {'type': 'MOD', 'word': 'traumatic'}, {'type': 'KEY', 'word': 'event'}, {'type': 'KEY', 'word': 'reaction'}, {'type': 'KEY', 'word': 'fear'}, {'type': 'KEY', 'word': 'helplessness'}, {'type': 'KEY', 'word': 'horror'}, {'type': 'MOD', 'word': 'longer'}, {'type': 'MOD', 'word': 'experiencing'}, {'type': 'MOD', 'word': 'emotional'}, {'type': 'MOD', 'word': 'behavioral'}, {'type': 'MOD', 'word': 'donic'}, {'type': 'MOD', 'word': 'dysphoric'}, {'type': 'MOD', 'word': 'negative'}, {'type': 'KEY', 'word': 'cognition'}, {'type': 'MOD', 'word': 'distressing'}, {'type': 'KEY', 'word': 'arousal'}, {'type': 'MOD', 'word': 'reactive'}, {'type': 'MOD', 'word': 'prominent'}, {'type': 'MOD', 'word': 'dissociative'}, {'type': 'KEY', 'word': 'combination'}, {'type': 'MOD', 'word': 'directly'}, {'type': 'MOD', 'word': 'experienced'}, {'type': 'MOD', 'word': 'limited'}, {'type': 'KEY', 'word': 'war'}, {'type': 'MOD', 'word': 'combatant'}, {'type': 'MOD', 'word': 'civilian'}, {'type': 'MOD', 'word': 'threatened'}, {'type': 'MOD', 'word': 'actual'}, {'type': 'KEY', 'word': 'assault'}, {'type': 'KEY', 'word': 'attack'}, {'type': 'KEY', 'word': 'robbery'}, {'type': 'KEY', 'word': 'mugging'}, {'type': 'MOD', 'word': 'sexual'}, {'type': 'KEY', 'word': 'violence'}, {'type': 'KEY', 'word': 'penetration'}, {'type': 'KEY', 'word': 'alcoholdrug'}, {'type': 'MOD', 'word': 'abusive'}, {'type': 'KEY', 'word': 'contact'}, {'type': 'KEY', 'word': 'trafficking'}, {'type': 'KEY', 'word': 'hostage'}, {'type': 'MOD', 'word': 'terrorist'}, {'type': 'KEY', 'word': 'torture'}, {'type': 'KEY', 'word': 'incarceration'}, {'type': 'KEY', 'word': 'prisoner'}, {'type': 'MOD', 'word': 'natural'}, {'type': 'KEY', 'word': 'human'}, {'type': 'KEY', 'word': 'disaster'}, {'type': 'MOD', 'word': 'severe'}, {'type': 'KEY', 'word': 'vehicle'}, {'type': 'KEY', 'word': 'accident'}, {'type': 'MOD', 'word': 'sexually'}, {'type': 'MOD', 'word': 'violent'}, {'type': 'MOD', 'word': 'developmentally'}, {'type': 'MOD', 'word': 'inappropriate'}, {'type': 'KEY', 'word': 'experience'}, {'type': 'KEY', 'word': 'injury'}, {'type': 'KEY', 'word': 'life'}, {'type': 'KEY', 'word': 'illness'}, {'type': 'MOD', 'word': 'medical'}, {'type': 'MOD', 'word': 'necessarily'}, {'type': 'KEY', 'word': 'incident'}, {'type': 'MOD', 'word': 'sudden'}, {'type': 'MOD', 'word': 'catastrophic'}, {'type': 'KEY', 'word': 'surgery'}, {'type': 'MOD', 'word': 'anaphylactic'}, {'type': 'KEY', 'word': 'shock'}, {'type': 'MOD', 'word': 'unnatural'}, {'type': 'KEY', 'word': 'death'}, {'type': 'MOD', 'word': 'domestic'}, {'type': 'KEY', 'word': 'catastrophe'}, {'type': 'KEY', 'word': 'hemorrhage'}, {'type': 'KEY', 'word': 'relative'}, {'type': 'KEY', 'word': 'friend'}, {'type': 'MOD', 'word': 'accidental'}, {'type': 'MOD', 'word': 'personal'}, {'type': 'KEY', 'word': 'suicide'}, {'type': 'KEY', 'word': 'stressor'}, {'type': 'MOD', 'word': 'interpersonal'}, {'type': 'MOD', 'word': 'intentional'}, {'type': 'KEY', 'word': 'way'}, {'type': 'MOD', 'word': 'involuntary'}, {'type': 'MOD', 'word': 'intrusive'}, {'type': 'KEY', 'word': 'recollection'}, {'type': 'KEY', 'word': 'rumination'}, {'type': 'KEY', 'word': 'memory'}, {'type': 'KEY', 'word': 'emphasis'}, {'type': 'MOD', 'word': 'usually'}, {'type': 'MOD', 'word': 'sensory'}, {'type': 'KEY', 'word': 'component'}, {'type': 'MOD', 'word': 'common'}, {'type': 'KEY', 'word': 'reexperiencing'}, {'type': 'KEY', 'word': 'dream'}, {'type': 'MOD', 'word': 'representative'}, {'type': 'MOD', 'word': 'thematically'}, {'type': 'KEY', 'word': 'threat'}, {'type': 'KEY', 'word': 'second'}, {'type': 'KEY', 'word': 'hour'}, {'type': 'KEY', 'word': 'continuum'}, {'type': 'MOD', 'word': 'brief'}, {'type': 'MOD', 'word': 'visual'}, {'type': 'KEY', 'word': 'intrusion'}, {'type': 'KEY', 'word': 'loss'}, {'type': 'KEY', 'word': 'reality'}, {'type': 'KEY', 'word': 'orientation'}, {'type': 'KEY', 'word': 'awareness'}, {'type': 'KEY', 'word': 'surrounding'}, {'type': 'KEY', 'word': 'flashback'}, {'type': 'MOD', 'word': 'prolonged'}, {'type': 'MOD', 'word': 'young'}, {'type': 'KEY', 'word': 'reenactment'}, {'type': 'KEY', 'word': 'trauma'}, {'type': 'KEY', 'word': 'play'}, {'type': 'MOD', 'word': 'psychological'}, {'type': 'KEY', 'word': 'reactivity'}, {'type': 'KEY', 'word': 'aspect'}, {'type': 'MOD', 'word': 'windy'}, {'type': 'KEY', 'word': 'hurricane'}, {'type': 'KEY', 'word': 'perpetrator'}, {'type': 'KEY', 'word': 'cue'}, {'type': 'KEY', 'word': 'sensation'}, {'type': 'KEY', 'word': 'dizziness'}, {'type': 'KEY', 'word': 'survivor'}, {'type': 'KEY', 'word': 'head'}, {'type': 'MOD', 'word': 'rapid'}, {'type': 'KEY', 'word': 'heartbeat'}, {'type': 'MOD', 'word': 'particularly'}, {'type': 'MOD', 'word': 'highly'}, {'type': 'MOD', 'word': 'somatic'}, {'type': 'MOD', 'word': 'persistently'}, {'type': 'MOD', 'word': 'commonly'}, {'type': 'MOD', 'word': 'deliberate'}, {'type': 'KEY', 'word': 'effort'}, {'type': 'KEY', 'word': 'thought'}, {'type': 'KEY', 'word': 'feeling'}, {'type': 'KEY', 'word': 'distraction'}, {'type': 'KEY', 'word': 'technique'}, {'type': 'MOD', 'word': 'internal'}, {'type': 'KEY', 'word': 'reminder'}, {'type': 'KEY', 'word': 'object'}, {'type': 'KEY', 'word': 'people'}, {'type': 'KEY', 'word': 'alteration'}, {'type': 'KEY', 'word': 'form'}, {'type': 'KEY', 'word': 'amnesia'}, {'type': 'KEY', 'word': 'alcohol'}, {'type': 'KEY', 'word': 'expectation'}, {'type': 'KEY', 'word': 'future'}, {'type': 'MOD', 'word': 'bad'}, {'type': 'KEY', 'word': 'authority'}, {'type': 'KEY', 'word': 'change'}, {'type': 'KEY', 'word': 'identity'}, {'type': 'MOD', 'word': 'erroneous'}, {'type': 'KEY', 'word': 'fault'}, {'type': 'KEY', 'word': 'uncle'}, {'type': 'KEY', 'word': 'anger'}, {'type': 'KEY', 'word': 'guilt'}, {'type': 'KEY', 'word': 'shame'}, {'type': 'MOD', 'word': 'markedly'}, {'type': 'KEY', 'word': 'interest'}, {'type': 'KEY', 'word': 'participation'}, {'type': 'MOD', 'word': 'positive'}, {'type': 'KEY', 'word': 'emotion'}, {'type': 'MOD', 'word': 'happiness'}, {'type': 'KEY', 'word': 'joy'}, {'type': 'KEY', 'word': 'satisfaction'}, {'type': 'KEY', 'word': 'intimacy'}, {'type': 'KEY', 'word': 'tenderness'}, {'type': 'KEY', 'word': 'sexuality'}, {'type': 'MOD', 'word': 'quick'}, {'type': 'MOD', 'word': 'aggressive'}, {'type': 'MOD', 'word': 'verbal'}, {'type': 'MOD', 'word': 'little'}, {'type': 'KEY', 'word': 'provocation'}, {'type': 'KEY', 'word': 'fight'}, {'type': 'MOD', 'word': 'reckless'}, {'type': 'MOD', 'word': 'selfdestructive'}, {'type': 'MOD', 'word': 'dangerous'}, {'type': 'KEY', 'word': 'driving'}, {'type': 'MOD', 'word': 'injurious'}, {'type': 'MOD', 'word': 'suicidal'}, {'type': 'MOD', 'word': 'heightened'}, {'type': 'KEY', 'word': 'sensitivity'}, {'type': 'MOD', 'word': 'sensitive'}, {'type': 'KEY', 'word': 'car'}, {'type': 'KEY', 'word': 'truck'}, {'type': 'MOD', 'word': 'fearful'}, {'type': 'KEY', 'word': 'heart'}, {'type': 'MOD', 'word': 'unexpected'}, {'type': 'KEY', 'word': 'stimulus'}, {'type': 'MOD', 'word': 'startle'}, {'type': 'KEY', 'word': 'response'}, {'type': 'KEY', 'word': 'jumpiness'}, {'type': 'MOD', 'word': 'loud'}, {'type': 'KEY', 'word': 'noise'}, {'type': 'KEY', 'word': 'movement'}, {'type': 'KEY', 'word': 'telephone'}, {'type': 'KEY', 'word': 'ringing'}, {'type': 'MOD', 'word': 'daily'}, {'type': 'KEY', 'word': 'number'}, {'type': 'MOD', 'word': 'focused'}, {'type': 'KEY', 'word': 'conversation'}, {'type': 'MOD', 'word': 'sustained'}, {'type': 'KEY', 'word': 'sleep'}, {'type': 'KEY', 'word': 'maintenance'}, {'type': 'KEY', 'word': 'nightmare'}, {'type': 'KEY', 'word': 'safety'}, {'type': 'KEY', 'word': 'concern'}, {'type': 'MOD', 'word': 'generalized'}, {'type': 'MOD', 'word': 'elevated'}, {'type': 'KEY', 'word': 'detachment'}, {'type': 'KEY', 'word': 'body'}, {'type': 'KEY', 'word': 'depersonalization'}, {'type': 'KEY', 'word': 'world'}, {'type': 'KEY', 'word': 'derealization'}, {'type': 'MOD', 'word': 'specifi'}]\n"
     ]
    }
   ],
   "source": [
    "text=''.join(features)\n",
    "#Regex to filter the redundency words up to standard instead of removing them\n",
    "#https://stackoverflow.com/questions/51976328/best-way-to-remove-xad-in-python\n",
    "text = text.replace('\\xad', '')\n",
    "text = text.replace('\\u00ad', '')\n",
    "text = text.replace('\\N{SOFT HYPHEN}', '')\n",
    "text = text.replace('/','')\n",
    "text = text.replace(').',' ')\n",
    "\n",
    "\n",
    "# add more stopwords from this step:\n",
    "'''\n",
    "from collections import Counter\n",
    "word_freq=Counter()\n",
    "for word in words:\n",
    "    word_freq[word] += 1\n",
    "common_words = word_freq.most_common(50)\n",
    "print(common_words)\n",
    "'''\n",
    "#We got:\n",
    "'''\n",
    "[('depressive', 23), ('traumatic', 14), ('events', 11), ('physical', 9), ('substance', 8), ('sexual', 8), ('medication', 7), ('onset', 7), ('PTSD', 7), ('persistent', 6), ('dissociative', 6), ('abuse', 5), ('withdrawal', 5), ('exposure', 5), ('individuals', 5), ('negative', 5), ('major', 4), ('mood', 4), ('childhood', 4), ('behavior', 4), ('violence', 4), ('violent', 4), ('injury', 4), ('trauma', 4), ('de\\xadpressive', 3), ('drug', 3), ('physiological', 3), ('clinical', 3), ('independent', 3), ('substantial', 3), ('distress', 3), ('drugs', 3), ('judgment', 3), ('essential', 3), ('previously', 3), ('recurrent', 3), ('hyperactivity', 3), ('excessive', 3), ('motor', 3), ('child', 3), ('important', 3), ('present', 3), ('setting', 3), ('typically', 3), ('activities', 3), ('fear', 3), ('states', 3), ('arousal', 3), ('war', 3), ('assault', 3)]\n",
    "'''\n",
    "# see: https://stackoverflow.com/a/51627002/9047811\n",
    "nlp.Defaults.stop_words |= {'e.g.', 'Criterion','disorder','event','symptoms','individual','use','time',\n",
    "    'period','diagnosis','history','long','\\'', 'Bl','years','days','behaves',\n",
    "    'non',\n",
    "    '-','job','age','event','symptoms'}\n",
    "\n",
    "for word in nlp.Defaults.stop_words:\n",
    "    lex = nlp.vocab[word]\n",
    "    lex.is_stop = True\n",
    "\n",
    "#start the nlp text processing    \n",
    "doc=nlp(text)\n",
    "candidate_pos = ['NOUN', 'PROPN', 'ADJ','ADV']\n",
    "\n",
    "#diminish the duplication\n",
    "words=set()\n",
    "\n",
    "keywords = []\n",
    "\n",
    "#remove text data that not the English words:\n",
    "    #remove all aphabet\n",
    "    #remove or fix every words with)'/x'and '/xad'\n",
    "for token in doc:\n",
    "    if re.match(r'([A-Z])|([A-Z]\\d)|(\\w+\\-)', token.text):\n",
    "        continue\n",
    "    #process the Lemmatization, see https://spacy.io/usage/adding-languages#lemmatizer\n",
    "    if token.lemma_ in words:\n",
    "        continue\n",
    "    words.add(token.lemma_)\n",
    "    #Get our key and mod   \n",
    "    if token.pos_ in candidate_pos and not token.is_stop:\n",
    "        if token.pos_ == 'NOUN' or token.pos_ == 'PROPN': \n",
    "            type = 'KEY'\n",
    "        else:\n",
    "            type = 'MOD'\n",
    "        keywords.append({\n",
    "            'type': type,\n",
    "            'word': token.lemma_\n",
    "        })\n",
    "\n",
    "\n",
    "        #lemmas.append(token.text)\n",
    "print(len(keywords))\n",
    "print(keywords)"
   ]
  },
  {
   "cell_type": "markdown",
   "metadata": {},
   "source": [
    "This part is left for you. The keywords contains both Mod and Key, and has 391 in total.\n",
    "Find a way to connect the keywords to the access directly, then generate or update the DB.\n",
    "This is the link that I've found so far:\n",
    "https://datatofish.com/how-to-connect-python-to-ms-access-database-using-pyodbc/"
   ]
  },
  {
   "cell_type": "code",
   "execution_count": 62,
   "metadata": {},
   "outputs": [
    {
     "ename": "ModuleNotFoundError",
     "evalue": "No module named 'pyodbc'",
     "output_type": "error",
     "traceback": [
      "\u001b[0;31m---------------------------------------------------------------------------\u001b[0m",
      "\u001b[0;31mModuleNotFoundError\u001b[0m                       Traceback (most recent call last)",
      "\u001b[0;32m<ipython-input-62-ef3ee2ffb5e1>\u001b[0m in \u001b[0;36m<module>\u001b[0;34m\u001b[0m\n\u001b[0;32m----> 1\u001b[0;31m \u001b[0;32mimport\u001b[0m \u001b[0mpyodbc\u001b[0m\u001b[0;34m\u001b[0m\u001b[0;34m\u001b[0m\u001b[0m\n\u001b[0m\u001b[1;32m      2\u001b[0m \u001b[0;34m\u001b[0m\u001b[0m\n\u001b[1;32m      3\u001b[0m \u001b[0;32mdef\u001b[0m \u001b[0mmdb_connect\u001b[0m\u001b[0;34m(\u001b[0m\u001b[0mdb_file\u001b[0m\u001b[0;34m,\u001b[0m \u001b[0muser\u001b[0m\u001b[0;34m=\u001b[0m\u001b[0;34m'admin'\u001b[0m\u001b[0;34m,\u001b[0m \u001b[0mpassword\u001b[0m \u001b[0;34m=\u001b[0m \u001b[0;34m''\u001b[0m\u001b[0;34m,\u001b[0m \u001b[0mold_driver\u001b[0m\u001b[0;34m=\u001b[0m\u001b[0;32mFalse\u001b[0m\u001b[0;34m)\u001b[0m\u001b[0;34m:\u001b[0m\u001b[0;34m\u001b[0m\u001b[0;34m\u001b[0m\u001b[0m\n\u001b[1;32m      4\u001b[0m     \u001b[0mdriver_ver\u001b[0m \u001b[0;34m=\u001b[0m \u001b[0;34m'*.mdb'\u001b[0m\u001b[0;34m\u001b[0m\u001b[0;34m\u001b[0m\u001b[0m\n\u001b[1;32m      5\u001b[0m     \u001b[0;32mif\u001b[0m \u001b[0;32mnot\u001b[0m \u001b[0mold_driver\u001b[0m\u001b[0;34m:\u001b[0m\u001b[0;34m\u001b[0m\u001b[0;34m\u001b[0m\u001b[0m\n",
      "\u001b[0;31mModuleNotFoundError\u001b[0m: No module named 'pyodbc'"
     ]
    }
   ],
   "source": [
    "#https://stackoverflow.com/a/1047591/9047811\n",
    "#unfinished\n",
    "import pyodbc\n",
    "\n",
    "def mdb_connect(db_file, user='admin', password = '', old_driver=False):\n",
    "    driver_ver = '*.mdb'\n",
    "    if not old_driver:\n",
    "        driver_ver += ', *.accdb'\n",
    "\n",
    "    odbc_conn_str = ('DRIVER={Microsoft Access Driver (%s)}'\n",
    "                     ';DBQ=%s;UID=%s;PWD=%s' %\n",
    "                     (driver_ver, db_file, user, password))\n",
    "\n",
    "    return pyodbc.connect(odbc_conn_str)\n"
   ]
  },
  {
   "cell_type": "code",
   "execution_count": null,
   "metadata": {},
   "outputs": [],
   "source": []
  }
 ],
 "metadata": {
  "kernelspec": {
   "display_name": "Python 3",
   "language": "python",
   "name": "python3"
  },
  "language_info": {
   "codemirror_mode": {
    "name": "ipython",
    "version": 3
   },
   "file_extension": ".py",
   "mimetype": "text/x-python",
   "name": "python",
   "nbconvert_exporter": "python",
   "pygments_lexer": "ipython3",
   "version": "3.7.3"
  }
 },
 "nbformat": 4,
 "nbformat_minor": 2
}
