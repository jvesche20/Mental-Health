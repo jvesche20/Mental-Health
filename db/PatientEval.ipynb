{
 "cells": [
  {
   "cell_type": "code",
   "execution_count": 1,
   "metadata": {},
   "outputs": [
    {
     "name": "stdout",
     "output_type": "stream",
     "text": [
      "C:\\Users\\jdiehr\\AppData\\Roaming\\jupyter\\runtime\\kernel-594a6a1c-a175-4736-82a3-945a5539c2b1.json\n",
      "C:\\Users\\jdiehr\\AppData\\Roaming\\jupyter\\runtime\\kernel-594a6a1c-a175-4736-82a3-945a5539c2b1.json"
     ]
    },
    {
     "ename": "ProgrammingError",
     "evalue": "('42000', \"[42000] [Microsoft][ODBC Microsoft Access Driver] Syntax error (missing operator) in query expression 'PatientID = C:\\\\Users\\\\jdiehr\\\\AppData\\\\Roaming\\\\jupyter\\\\runtime\\\\kernel-594a6a1c-a175-4736-82a3-945a5539c2b1.json'. (-3100) (SQLExecDirectW)\")",
     "output_type": "error",
     "traceback": [
      "\u001b[1;31m---------------------------------------------------------------------------\u001b[0m",
      "\u001b[1;31mProgrammingError\u001b[0m                          Traceback (most recent call last)",
      "\u001b[1;32m<ipython-input-1-d95f835ad184>\u001b[0m in \u001b[0;36m<module>\u001b[1;34m\u001b[0m\n\u001b[0;32m     62\u001b[0m \u001b[0mconn\u001b[0m \u001b[1;33m=\u001b[0m \u001b[0mpyodbc\u001b[0m\u001b[1;33m.\u001b[0m\u001b[0mconnect\u001b[0m\u001b[1;33m(\u001b[0m\u001b[0mcon_str\u001b[0m\u001b[1;33m)\u001b[0m\u001b[1;33m\u001b[0m\u001b[1;33m\u001b[0m\u001b[0m\n\u001b[0;32m     63\u001b[0m \u001b[0mcursor\u001b[0m \u001b[1;33m=\u001b[0m \u001b[0mconn\u001b[0m\u001b[1;33m.\u001b[0m\u001b[0mcursor\u001b[0m\u001b[1;33m(\u001b[0m\u001b[1;33m)\u001b[0m\u001b[1;33m\u001b[0m\u001b[1;33m\u001b[0m\u001b[0m\n\u001b[1;32m---> 64\u001b[1;33m \u001b[0mcursor\u001b[0m\u001b[1;33m.\u001b[0m\u001b[0mexecute\u001b[0m\u001b[1;33m(\u001b[0m\u001b[1;34m'select PatientID, ProblemDescription from Patient where PatientID = '\u001b[0m\u001b[1;33m+\u001b[0m \u001b[0msys\u001b[0m\u001b[1;33m.\u001b[0m\u001b[0margv\u001b[0m\u001b[1;33m[\u001b[0m\u001b[1;36m2\u001b[0m\u001b[1;33m]\u001b[0m \u001b[1;33m+\u001b[0m\u001b[1;34m' '\u001b[0m\u001b[1;33m)\u001b[0m\u001b[1;33m\u001b[0m\u001b[1;33m\u001b[0m\u001b[0m\n\u001b[0m\u001b[0;32m     65\u001b[0m \u001b[1;33m\u001b[0m\u001b[0m\n\u001b[0;32m     66\u001b[0m \u001b[0mresults\u001b[0m \u001b[1;33m=\u001b[0m \u001b[0mcursor\u001b[0m\u001b[1;33m.\u001b[0m\u001b[0mfetchall\u001b[0m\u001b[1;33m(\u001b[0m\u001b[1;33m)\u001b[0m\u001b[1;33m\u001b[0m\u001b[1;33m\u001b[0m\u001b[0m\n",
      "\u001b[1;31mProgrammingError\u001b[0m: ('42000', \"[42000] [Microsoft][ODBC Microsoft Access Driver] Syntax error (missing operator) in query expression 'PatientID = C:\\\\Users\\\\jdiehr\\\\AppData\\\\Roaming\\\\jupyter\\\\runtime\\\\kernel-594a6a1c-a175-4736-82a3-945a5539c2b1.json'. (-3100) (SQLExecDirectW)\")"
     ]
    }
   ],
   "source": [
    "import pyodbc\n",
    "import string\n",
    "from string import punctuation\n",
    "import nltk\n",
    "from nltk.corpus import stopwords\n",
    "from nltk.corpus import words\n",
    "from nltk.tokenize import sent_tokenize, word_tokenize\n",
    "import sys\n",
    "\n",
    "def cleanResults(dis):\n",
    "    \n",
    "    allwords = []\n",
    "    \n",
    "    allwords = dis.split()\n",
    "    noPunct = []\n",
    "    for word in allwords:\n",
    "        np =  [w for w in word if not w in punctuation] \n",
    "        noPunct.append(''.join(np))\n",
    "    \n",
    "    stop_words = set(stopwords.words('english'))\n",
    "\n",
    "    noStop = []\n",
    "    for word in noPunct:\n",
    "        if word not in stop_words and len(word) > 2:\n",
    "            noStop.append(word)\n",
    "\n",
    "    noDup = []\n",
    "    for word in noStop:\n",
    "        if word not in noDup:\n",
    "            noDup.append(word)\n",
    "\n",
    "    real = []\n",
    "\n",
    "    for word in noDup:\n",
    "        if word in words.words():\n",
    "            real.append(word)\n",
    "\n",
    "    text = ' '.join(real)\n",
    "    read = word_tokenize(text)\n",
    "\n",
    "    values = nltk.pos_tag(read)\n",
    "\n",
    "    goodtags = []\n",
    "    for tag in values:\n",
    "        if tag[1] == 'NN' or tag[1] == 'JJ' or tag[1] == 'VBG':\n",
    "            goodtags.append(tag)\n",
    "            \n",
    "    goodwords = []\n",
    "    for t in goodtags:\n",
    "        if t[0] not in goodwords:\n",
    "            goodwords.append(t[0])\n",
    "    \n",
    "    return goodwords\n",
    "\n",
    "\n",
    "print(sys.argv[len(sys.argv)-1])\n",
    "sys.stdout.write(sys.argv[len(sys.argv)-1])\n",
    "con_str = (\n",
    "    r'DRIVER={Microsoft Access Driver (*.mdb, *.accdb)};'\n",
    "    r'DBQ=./MentalIllnessDB.accdb'\n",
    ")\n",
    "conn = pyodbc.connect(con_str)\n",
    "cursor = conn.cursor()\n",
    "cursor.execute('select PatientID, ProblemDescription from Patient where PatientID = '+ sys.argv[2] +' ')\n",
    "\n",
    "results = cursor.fetchall()\n",
    "    \n",
    "print(results)\n",
    "res = cleanResults(results)\n",
    "if res != None:\n",
    "    ws = ' '.join(res)\n",
    "    cursor.execute(\"UPDATE Disorder SET WordMatch = ? WHERE DisorderID = ? \", (ws, str(disorder[0])))\n",
    "    print(ws)\n",
    "    \n",
    "conn.commit()\n",
    "cursor.close()\n",
    "conn.close()\n",
    "    \n",
    "\n",
    "\n"
   ]
  },
  {
   "cell_type": "code",
   "execution_count": null,
   "metadata": {},
   "outputs": [],
   "source": []
  },
  {
   "cell_type": "code",
   "execution_count": null,
   "metadata": {},
   "outputs": [],
   "source": []
  },
  {
   "cell_type": "code",
   "execution_count": null,
   "metadata": {},
   "outputs": [],
   "source": []
  },
  {
   "cell_type": "code",
   "execution_count": null,
   "metadata": {},
   "outputs": [],
   "source": []
  },
  {
   "cell_type": "code",
   "execution_count": null,
   "metadata": {},
   "outputs": [],
   "source": []
  }
 ],
 "metadata": {
  "kernelspec": {
   "display_name": "Python 3",
   "language": "python",
   "name": "python3"
  },
  "language_info": {
   "codemirror_mode": {
    "name": "ipython",
    "version": 3
   },
   "file_extension": ".py",
   "mimetype": "text/x-python",
   "name": "python",
   "nbconvert_exporter": "python",
   "pygments_lexer": "ipython3",
   "version": "3.6.9"
  }
 },
 "nbformat": 4,
 "nbformat_minor": 2
}
