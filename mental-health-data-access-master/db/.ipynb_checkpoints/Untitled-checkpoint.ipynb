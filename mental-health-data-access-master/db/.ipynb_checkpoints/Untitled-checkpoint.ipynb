{
 "cells": [
  {
   "cell_type": "code",
   "execution_count": 1,
   "metadata": {
    "scrolled": true
   },
   "outputs": [
    {
     "name": "stdout",
     "output_type": "stream",
     "text": [
      "              word  question\n",
      "0          control         1\n",
      "1     intelligence         2\n",
      "2    communication         1\n",
      "3        reasoning         5\n",
      "4         thinking         1\n",
      "..             ...       ...\n",
      "268            joy         1\n",
      "269   satisfaction         1\n",
      "270       intimacy         1\n",
      "271      sexuality         1\n",
      "272        yelling         3\n",
      "\n",
      "[273 rows x 2 columns]\n"
     ]
    }
   ],
   "source": [
    "import pyodbc\n",
    "import string\n",
    "from string import punctuation\n",
    "import nltk\n",
    "from nltk.corpus import stopwords\n",
    "from nltk.corpus import words\n",
    "from nltk.tokenize import sent_tokenize, word_tokenize\n",
    "import sys\n",
    "import pandas as pd\n",
    "\n",
    "    \n",
    "con_str = (\n",
    "    r'DRIVER={Microsoft Access Driver (*.mdb, *.accdb)};'\n",
    "    r'DBQ=./MentalIllnessDB.accdb')\n",
    "\n",
    "conn = pyodbc.connect(con_str)\n",
    "cursor = conn.cursor()\n",
    "cursor.execute('select DisorderID, WordMatch from Disorder')\n",
    "\n",
    "results = cursor.fetchall()\n",
    "\n",
    "#print(results)\n",
    "\n",
    "ws = pd.read_csv('words.txt')\n",
    "\n",
    "\n",
    "print(ws)\n",
    "\n"
   ]
  },
  {
   "cell_type": "code",
   "execution_count": null,
   "metadata": {},
   "outputs": [],
   "source": []
  },
  {
   "cell_type": "code",
   "execution_count": 7,
   "metadata": {},
   "outputs": [],
   "source": [
    "for i in range(0,len(ws['word'])):\n",
    "    for res in results:\n",
    "        if ws['word'][i] in str(res[1]):\n",
    "            cursor.execute(\"INSERT INTO Symptom (DisorderID, SymptomName, QuestionID) Values (?, ?, ?) \", (res[0], ws['word'][i], int(ws['question'][i])))"
   ]
  },
  {
   "cell_type": "code",
   "execution_count": null,
   "metadata": {},
   "outputs": [],
   "source": []
  },
  {
   "cell_type": "code",
   "execution_count": null,
   "metadata": {},
   "outputs": [],
   "source": []
  },
  {
   "cell_type": "code",
   "execution_count": null,
   "metadata": {},
   "outputs": [],
   "source": []
  },
  {
   "cell_type": "code",
   "execution_count": 8,
   "metadata": {},
   "outputs": [],
   "source": [
    "\n",
    "conn.commit()\n",
    "cursor.close()\n",
    "conn.close()"
   ]
  }
 ],
 "metadata": {
  "kernelspec": {
   "display_name": "Python 3",
   "language": "python",
   "name": "python3"
  },
  "language_info": {
   "codemirror_mode": {
    "name": "ipython",
    "version": 3
   },
   "file_extension": ".py",
   "mimetype": "text/x-python",
   "name": "python",
   "nbconvert_exporter": "python",
   "pygments_lexer": "ipython3",
   "version": "3.6.9"
  }
 },
 "nbformat": 4,
 "nbformat_minor": 2
}
